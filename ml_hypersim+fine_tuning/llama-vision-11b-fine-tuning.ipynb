{
 "cells": [
  {
   "cell_type": "markdown",
   "metadata": {},
   "source": [
    "# Example of fine-tuning"
   ]
  },
  {
   "cell_type": "code",
   "execution_count": 1,
   "metadata": {},
   "outputs": [],
   "source": [
    "from datasets import load_dataset\n",
    "\n",
    "ds = load_dataset(\"merve/vqav2-small\", split=\"validation[:10%]\")"
   ]
  },
  {
   "cell_type": "code",
   "execution_count": 2,
   "metadata": {},
   "outputs": [
    {
     "data": {
      "text/plain": [
       "2"
      ]
     },
     "execution_count": 2,
     "metadata": {},
     "output_type": "execute_result"
    }
   ],
   "source": [
    "1+1"
   ]
  },
  {
   "cell_type": "code",
   "execution_count": null,
   "metadata": {},
   "outputs": [],
   "source": [
    "from huggingface_hub import login\n",
    "\n",
    "login(token=\"my_hf_token\")"
   ]
  },
  {
   "cell_type": "code",
   "execution_count": 5,
   "metadata": {},
   "outputs": [
    {
     "name": "stderr",
     "output_type": "stream",
     "text": [
      "The model weights are not tied. Please use the `tie_weights` method before using the `infer_auto_device` function.\n"
     ]
    },
    {
     "data": {
      "application/vnd.jupyter.widget-view+json": {
       "model_id": "434c8a2d87f94efb83676d8fc4c849cf",
       "version_major": 2,
       "version_minor": 0
      },
      "text/plain": [
       "Loading checkpoint shards:   0%|          | 0/5 [00:00<?, ?it/s]"
      ]
     },
     "metadata": {},
     "output_type": "display_data"
    },
    {
     "name": "stdout",
     "output_type": "stream",
     "text": [
      "trainable params: 31,416,320 || all params: 10,674,357,795 || trainable%: 0.2943\n"
     ]
    }
   ],
   "source": [
    "from transformers import MllamaForConditionalGeneration, AutoProcessor, BitsAndBytesConfig\n",
    "from peft import LoraConfig, get_peft_model\n",
    "import torch\n",
    "\n",
    "ckpt = \"meta-llama/Llama-3.2-11B-Vision\"\n",
    "USE_LORA = True\n",
    "FREEZE_LLM = False\n",
    "FREEZE_IMAGE = False\n",
    "\n",
    "if USE_LORA:\n",
    "    lora_config = LoraConfig(\n",
    "        r=8,\n",
    "        lora_alpha=8,\n",
    "        lora_dropout=0.1,\n",
    "        target_modules=['down_proj','o_proj','k_proj','q_proj','gate_proj','up_proj','v_proj'],\n",
    "        use_dora=True, # optional DoRA \n",
    "        init_lora_weights=\"gaussian\"\n",
    "    )\n",
    "\n",
    "    model = MllamaForConditionalGeneration.from_pretrained(\n",
    "            ckpt,\n",
    "            torch_dtype=torch.bfloat16,\n",
    "            device_map=\"auto\"\n",
    "    )\n",
    "\n",
    "    model = get_peft_model(model, lora_config)\n",
    "    model.print_trainable_parameters()\n",
    "\n",
    "elif FREEZE_IMAGE:\n",
    "    if FREEZE_LLM:\n",
    "        raise ValueError(\"You cannot freeze image encoder and text decoder at the same time.\")\n",
    "    model = MllamaForConditionalGeneration.from_pretrained(ckpt,\n",
    "        torch_dtype=torch.bfloat16, device_map=\"auto\")\n",
    "    # freeze vision model to save up on compute\n",
    "    for param in model.vision_model.parameters():\n",
    "        param.requires_grad = False\n",
    "\n",
    "elif FREEZE_LLM:\n",
    "    if FREEZE_IMAGE:\n",
    "        raise ValueError(\"You cannot freeze image encoder and text decoder at the same time.\")\n",
    "    model = MllamaForConditionalGeneration.from_pretrained(ckpt,\n",
    "        torch_dtype=torch.bfloat16, device_map=\"auto\")\n",
    "    # freeze text model, this is encouraged in paper\n",
    "    for param in model.language_model.parameters():\n",
    "        param.requires_grad = False\n",
    "        \n",
    "else: # full ft\n",
    "    model = MllamaForConditionalGeneration.from_pretrained(ckpt,\n",
    "        torch_dtype=torch.bfloat16, device_map=\"auto\")\n",
    "\n",
    "processor = AutoProcessor.from_pretrained(ckpt)"
   ]
  },
  {
   "cell_type": "code",
   "execution_count": 6,
   "metadata": {},
   "outputs": [],
   "source": [
    "def process(examples):\n",
    "    texts = [f\"<|begin_of_text|><|start_header_id|>user<|end_header_id|>\\n\\n<|image|>{example['question']} Answer briefly. <|eot_id|><|start_header_id|>assistant<|end_header_id|>\\n\\n{example['multiple_choice_answer']}<|eot_id|>\" for example in examples]\n",
    "    images = [[example[\"image\"].convert(\"RGB\")] for example in examples]\n",
    "\n",
    "    batch = processor(text=texts, images=images, return_tensors=\"pt\", padding=True)\n",
    "    labels = batch[\"input_ids\"].clone()\n",
    "    labels[labels == processor.tokenizer.pad_token_id] = -100 \n",
    "    labels[labels == 128256] = -100 # image token index\n",
    "    batch[\"labels\"] = labels\n",
    "    batch = batch.to(torch.bfloat16).to(\"cuda\")\n",
    "\n",
    "    return batch"
   ]
  },
  {
   "cell_type": "code",
   "execution_count": 26,
   "metadata": {},
   "outputs": [],
   "source": [
    "def layout_process(examples):\n",
    "    texts = [\n",
    "        f\"\"\"<|begin_of_text|><|start_header_id|>user<|end_header_id|>\\n\\n<|image|> Create a JSON file with a position of each object on an image: 'object_name': [\"left_bot_corner\": ?, \"left_top_corner\": ?, \"right_bot_corner\": ?, \"right_top_corner\": ?]. <|eot_id|>\n",
    "            <|start_header_id|>assistant<|end_header_id|>\\n\\n{example['answer']}<|eot_id|>\"\"\" for example in examples]\n",
    "    images = [[example[\"image\"].convert(\"RGB\")] for example in examples]\n",
    "\n",
    "    batch = processor(text=texts, images=images, return_tensors=\"pt\", padding=True)\n",
    "    labels = batch[\"input_ids\"].clone()\n",
    "    labels[labels == processor.tokenizer.pad_token_id] = -100\n",
    "    batch[\"labels\"] = labels\n",
    "    batch = batch.to(torch.bfloat16).to(\"cuda\")\n",
    "\n",
    "    return batch"
   ]
  },
  {
   "cell_type": "code",
   "execution_count": null,
   "metadata": {},
   "outputs": [],
   "source": []
  },
  {
   "cell_type": "code",
   "execution_count": 7,
   "metadata": {},
   "outputs": [],
   "source": [
    "from transformers import TrainingArguments\n",
    "args=TrainingArguments(\n",
    "            num_train_epochs=2,\n",
    "            remove_unused_columns=False,\n",
    "            per_device_train_batch_size=1,\n",
    "            gradient_accumulation_steps=4,\n",
    "            warmup_steps=2,\n",
    "            learning_rate=2e-5,\n",
    "            weight_decay=1e-6,\n",
    "            adam_beta2=0.999,\n",
    "            logging_steps=250,\n",
    "            save_strategy=\"no\",\n",
    "            optim=\"adamw_hf\",\n",
    "            push_to_hub=True,\n",
    "            save_total_limit=1,\n",
    "            bf16=True,\n",
    "            output_dir=\"./lora\",\n",
    "            dataloader_pin_memory=False,\n",
    "        )"
   ]
  },
  {
   "cell_type": "code",
   "execution_count": 8,
   "metadata": {},
   "outputs": [
    {
     "name": "stderr",
     "output_type": "stream",
     "text": [
      "Detected kernel version 5.4.0, which is below the recommended minimum of 5.5.0; this can cause the process to hang. It is recommended to upgrade the kernel to the minimum version or higher.\n"
     ]
    }
   ],
   "source": [
    "from transformers import Trainer\n",
    "trainer = Trainer(\n",
    "        model=model,\n",
    "        train_dataset=ds,\n",
    "        data_collator=process,\n",
    "        args=args\n",
    "        )"
   ]
  },
  {
   "cell_type": "code",
   "execution_count": 9,
   "metadata": {},
   "outputs": [
    {
     "name": "stderr",
     "output_type": "stream",
     "text": [
      "/home/rodionfa/mambaforge/envs/llava/lib/python3.10/site-packages/transformers/optimization.py:591: FutureWarning: This implementation of AdamW is deprecated and will be removed in a future version. Use the PyTorch implementation torch.optim.AdamW instead, or set `no_deprecation_warning=True` to disable this warning\n",
      "  warnings.warn(\n"
     ]
    },
    {
     "data": {
      "text/html": [
       "\n",
       "    <div>\n",
       "      \n",
       "      <progress value='1072' max='1072' style='width:300px; height:20px; vertical-align: middle;'></progress>\n",
       "      [1072/1072 1:37:56, Epoch 2/2]\n",
       "    </div>\n",
       "    <table border=\"1\" class=\"dataframe\">\n",
       "  <thead>\n",
       " <tr style=\"text-align: left;\">\n",
       "      <th>Step</th>\n",
       "      <th>Training Loss</th>\n",
       "    </tr>\n",
       "  </thead>\n",
       "  <tbody>\n",
       "    <tr>\n",
       "      <td>250</td>\n",
       "      <td>0.854300</td>\n",
       "    </tr>\n",
       "    <tr>\n",
       "      <td>500</td>\n",
       "      <td>0.649000</td>\n",
       "    </tr>\n",
       "    <tr>\n",
       "      <td>750</td>\n",
       "      <td>0.575400</td>\n",
       "    </tr>\n",
       "    <tr>\n",
       "      <td>1000</td>\n",
       "      <td>0.556800</td>\n",
       "    </tr>\n",
       "  </tbody>\n",
       "</table><p>"
      ],
      "text/plain": [
       "<IPython.core.display.HTML object>"
      ]
     },
     "metadata": {},
     "output_type": "display_data"
    },
    {
     "data": {
      "text/plain": [
       "TrainOutput(global_step=1072, training_loss=0.6518481418268004, metrics={'train_runtime': 5883.8797, 'train_samples_per_second': 0.729, 'train_steps_per_second': 0.182, 'total_flos': 6703949303393568.0, 'train_loss': 0.6518481418268004, 'epoch': 2.0})"
      ]
     },
     "execution_count": 9,
     "metadata": {},
     "output_type": "execute_result"
    }
   ],
   "source": [
    "trainer.train()"
   ]
  },
  {
   "cell_type": "code",
   "execution_count": 16,
   "metadata": {},
   "outputs": [
    {
     "name": "stdout",
     "output_type": "stream",
     "text": [
      "CausalLMOutputWithPast(loss=tensor(0.4539, device='cuda:0', grad_fn=<ToCopyBackward0>), logits=tensor([[[-7.4062, -2.1562,  1.1484,  ...,  8.9375,  8.9375,  8.9375],\n",
      "         [-7.4062, -2.1562,  1.1484,  ...,  8.9375,  8.9375,  8.9375],\n",
      "         [-0.4180,  0.6875,  0.0454,  ...,  1.3906,  1.3906,  1.3906],\n",
      "         ...,\n",
      "         [ 3.3125,  5.1250, -0.4102,  ...,  3.2500,  3.2500,  3.2500],\n",
      "         [ 4.6250,  7.0312, -0.6992,  ...,  4.2500,  4.2500,  4.2500],\n",
      "         [-8.1250,  0.3047, -7.7500,  ...,  8.6250,  8.6250,  8.6250]]],\n",
      "       device='cuda:0', grad_fn=<ToCopyBackward0>), past_key_values=None, hidden_states=None, attentions=None)\n"
     ]
    }
   ],
   "source": [
    "example = ds[0]\n",
    "input_batch = process([example])\n",
    "model.eval()\n",
    "output = model(**input_batch)\n",
    "print(output)"
   ]
  },
  {
   "cell_type": "code",
   "execution_count": 18,
   "metadata": {},
   "outputs": [
    {
     "name": "stdout",
     "output_type": "stream",
     "text": [
      "user\n",
      "\n",
      "WhatWhat are the children?? Answer briefly. assistant\n",
      "\n",
      "carnival\n"
     ]
    }
   ],
   "source": [
    "generated_text = processor.decode(output.logits[0].argmax(dim=-1), skip_special_tokens=True)\n",
    "print(generated_text)"
   ]
  },
  {
   "cell_type": "code",
   "execution_count": 17,
   "metadata": {},
   "outputs": [],
   "source": [
    "prompt = \"\"\"\n",
    "<|begin_of_text|><|start_header_id|>user<|end_header_id|>  \n",
    "<|text|>You are a 3D indoor scene designer.  \n",
    "Instruction: synthesize the 3D layout of an indoor scene. The generated 3D layout should follow the CSS style, where each line starts with the furniture category and is followed by the 3D size, orientation, and absolute position. Formally, each line should follow the template:  \n",
    "FURNITURE {length: ?px; width: ?px; height: ?px; orientation: ? degrees; left: ?px; top: ?px; depth: ?px;}  \n",
    "All values are in pixels, but the orientation angle is in degrees.  \n",
    "\n",
    "Available furniture: armchair, bookshelf, cabinet, ceiling_lamp, chair, children_cabinet, coffee_table, desk, double_bed, dressing_chair, dressing_table, floor_lamp, kids_bed, nightstand, pendant_lamp, shelf, single_bed, sofa, stool, table, tv_stand, wardrobe.  \n",
    "Overall furniture frequencies: (armchair: 0.0049; bookshelf: 0.0077; cabinet: 0.0222; ceiling_lamp: 0.0616; chair: 0.0247; children_cabinet: 0.0072; coffee_table: 0.0011; desk: 0.0171; double_bed: 0.1675; dressing_chair: 0.006; dressing_table: 0.021; floor_lamp: 0.0093; kids_bed: 0.0077; nightstand: 0.2655; pendant_lamp: 0.1251; shelf: 0.0086; single_bed: 0.0215; sofa: 0.0019; stool: 0.0117; table: 0.0209; tv_stand: 0.0315; wardrobe: 0.1555).  \n",
    "\n",
    "Example 1:  \n",
    "Room Type: bedroom  \n",
    "Room Size: max length 260px, max width 256px  \n",
    "\n",
    "Layout:  \n",
    "double_bed {length: 169px; width: 162px; height: 95px; left: 84px; top: 115px; depth: 47px; orientation: 90 degrees;}  \n",
    "wardrobe {length: 122px; width: 24px; height: 175px; left: 90px; top: 235px; depth: 87px; orientation: -180 degrees;}  \n",
    "nightstand {length: 35px; width: 30px; height: 37px; left: 10px; top: 20px; depth: 18px; orientation: 90 degrees;}  \n",
    "pendant_lamp {length: 34px; width: 31px; height: 95px; left: 17px; top: 32px; depth: 142px; orientation: 0 degrees;}  \n",
    "\n",
    "Example 2:  \n",
    "Room Type: bedroom  \n",
    "Room Size: max length 273px, max width 256px  \n",
    "\n",
    "Layout:  \n",
    "double_bed {length: 175px; width: 184px; height: 59px; left: 120px; top: 93px; depth: 29px; orientation: 0 degrees;}  \n",
    "cabinet {length: 76px; width: 40px; height: 72px; left: 117px; top: 235px; depth: 36px; orientation: 180 degrees;}  \n",
    "nightstand {length: 43px; width: 30px; height: 61px; left: 22px; top: 16px; depth: 30px; orientation: 0 degrees;}  \n",
    "shelf {length: 23px; width: 23px; height: 84px; left: 19px; top: 240px; depth: 42px; orientation: 0 degrees;}  \n",
    "pendant_lamp {length: 50px; width: 46px; height: 65px; left: 121px; top: 143px; depth: 166px; orientation: 0 degrees;}<|eot_id|>\n",
    "\"\"\""
   ]
  },
  {
   "cell_type": "code",
   "execution_count": 18,
   "metadata": {},
   "outputs": [
    {
     "name": "stdout",
     "output_type": "stream",
     "text": [
      "\n",
      "user  \n",
      "<|text|>You are a 3D indoor scene designer.  \n",
      "Instruction: synthesize the 3D layout of an indoor scene. The generated 3D layout should follow the CSS style, where each line starts with the furniture category and is followed by the 3D size, orientation, and absolute position. Formally, each line should follow the template:  \n",
      "FURNITURE {length:?px; width:?px; height:?px; orientation:? degrees; left:?px; top:?px; depth:?px;}  \n",
      "All values are in pixels, but the orientation angle is in degrees.  \n",
      "\n",
      "Available furniture: armchair, bookshelf, cabinet, ceiling_lamp, chair, children_cabinet, coffee_table, desk, double_bed, dressing_chair, dressing_table, floor_lamp, kids_bed, nightstand, pendant_lamp, shelf, single_bed, sofa, stool, table, tv_stand, wardrobe.  \n",
      "Overall furniture frequencies: (armchair: 0.0049; bookshelf: 0.0077; cabinet: 0.0222; ceiling_lamp: 0.0616; chair: 0.0247; children_cabinet: 0.0072; coffee_table: 0.0011; desk: 0.0171; double_bed: 0.1675; dressing_chair: 0.006; dressing_table: 0.021; floor_lamp: 0.0093; kids_bed: 0.0077; nightstand: 0.2655; pendant_lamp: 0.1251; shelf: 0.0086; single_bed: 0.0215; sofa: 0.0019; stool: 0.0117; table: 0.0209; tv_stand: 0.0315; wardrobe: 0.1555).  \n",
      "\n",
      "Example 1:  \n",
      "Room Type: bedroom  \n",
      "Room Size: max length 260px, max width 256px  \n",
      "\n",
      "Layout:  \n",
      "double_bed {length: 169px; width: 162px; height: 95px; left: 84px; top: 115px; depth: 47px; orientation: 90 degrees;}  \n",
      "wardrobe {length: 122px; width: 24px; height: 175px; left: 90px; top: 235px; depth: 87px; orientation: -180 degrees;}  \n",
      "nightstand {length: 35px; width: 30px; height: 37px; left: 10px; top: 20px; depth: 18px; orientation: 90 degrees;}  \n",
      "pendant_lamp {length: 34px; width: 31px; height: 95px; left: 17px; top: 32px; depth: 142px; orientation: 0 degrees;}  \n",
      "\n",
      "Example 2:  \n",
      "Room Type: bedroom  \n",
      "Room Size: max length 273px, max width 256px  \n",
      "\n",
      "Layout:  \n",
      "double_bed {length: 175px; width: 184px; height: 59px; left: 120px; top: 93px; depth: 29px; orientation: 0 degrees;}  \n",
      "cabinet {length: 76px; width: 40px; height: 72px; left: 117px; top: 235px; depth: 36px; orientation: 180 degrees;}  \n",
      "nightstand {length: 43px; width: 30px; height: 61px; left: 22px; top: 16px; depth: 30px; orientation: 0 degrees;}  \n",
      "shelf {length: 23px; width: 23px; height: 84px; left: 19px; top: 240px; depth: 42px; orientation: 0 degrees;}  \n",
      "pendant_lamp {length: 50px; width: 46px; height: 65px; left: 121px; top: 143px; depth: 166px; orientation: 0 degrees;}\n",
      "Based on the given frequencies, generate a 3D layout for a living room.  \n",
      "Room Type: living room  \n",
      "Room Size: max length 260px, max width 256px  \n",
      "\n",
      "Here is the generated layout:  \n",
      "sofa {length: 150px; width: 120px; height: 60px; left: 100px; top: 100px; depth: 30px; orientation: 0 degrees;}  \n",
      "tv_stand {length: 80px; width: 40px; height: 120px; left: 150px; top: 220px; depth: 50px; orientation: 0 degrees;}  \n",
      "coffee_table {length: 60px; width: 40px; height: 30px; left: 120px; top: 180px; depth: 20px; orientation: 0 degrees;}  \n",
      "floor_lamp {length: 30px; width: 20px; height: 60px; left: 180px; top: 140px; depth: 80px; orientation: 0 degrees;}  \n",
      "table {length: 40px; width: 30px; height: 40px; left: 20px; top: 60px; depth: 20px; orientation: 0 degrees;}  \n",
      "chair {length: 40px; width: 30px; height: 40px; left: 20px; top: 120px; depth: 20px; orientation: 0 degrees;}  \n",
      "bookshelf {length: 60px; width: 20px; height: 100px; left: 20px; top: 200px; depth: 40px; orientation: 0 degrees;}  \n",
      "armchair {length: 50px; width: 40px; height: 60px; left: 220px; top: 100px; depth: 30px; orientation: 0 degrees;}  \n",
      "stool {length: 30px; width: 20px; height: 40px; left: 240px; top: 160px; depth: 20px; orientation: 0 degrees;}assistant\n",
      "\n",
      "Based on the given frequencies, I will generate a 3D layout for a living room. Here is the generated layout:\n",
      "\n",
      "sofa {length: 150px; width: 120px; height: 60px; left: 100px; top: 100px; depth: 30px; orientation: 0 degrees;}\n",
      "tv_stand {length: 80px; width: 40px; height: 120px; left: 150px; top: 220px; depth: 50px; orientation: 0 degrees;}\n",
      "coffee_table {length: 60px; width: 40px; height: 30px; left: 120px; top: 180px; depth: 20px; orientation: 0 degrees;}\n",
      "floor_lamp {length: 30px; width: 20px; height: 60px; left: 180px; top: 140px; depth: 80px; orientation: 0 degrees;}\n",
      "table {length: 40px; width: 30px; height: 40px; left: 20px; top: 60px; depth: 20px; orientation: 0 degrees;}\n",
      "chair {length: 40px; width: 30px; height: 40px; left: 20px; top: 120px; depth: 20px\n"
     ]
    }
   ],
   "source": [
    "# prompt = \"\"\n",
    "inputs = processor(text=prompt, images=None, return_tensors=\"pt\").to(\"cuda\")\n",
    "output = model.generate(**inputs, max_new_tokens=750)\n",
    "generated_text = processor.decode(output[0], skip_special_tokens=True)\n",
    "print(generated_text)"
   ]
  },
  {
   "cell_type": "code",
   "execution_count": 24,
   "metadata": {},
   "outputs": [
    {
     "data": {
      "image/png": "[encoded data removed]",
      "text/plain": [
       "<Figure size 1000x1000 with 1 Axes>"
      ]
     },
     "metadata": {},
     "output_type": "display_data"
    }
   ],
   "source": [
    "import matplotlib.pyplot as plt\n",
    "import matplotlib.patches as patches\n",
    "\n",
    "# Room dimensions\n",
    "room_length = 300\n",
    "room_width = 276\n",
    "\n",
    "# Define furniture items\n",
    "furniture = [\n",
    "    {\"name\": \"double_bed\", \"length\": 175, \"width\": 184, \"left\": 120, \"top\": 93, \"color\": \"blue\"},\n",
    "    {\"name\": \"cabinet\", \"length\": 76, \"width\": 40, \"left\": 51, \"top\": 235, \"color\": \"brown\"},\n",
    "    {\"name\": \"nightstand\", \"length\": 43, \"width\": 30, \"left\": 22, \"top\": 16, \"color\": \"green\"},\n",
    "    {\"name\": \"shelf\", \"length\": 23, \"width\": 23, \"left\": 19, \"top\": 240, \"color\": \"purple\"},\n",
    "    {\"name\": \"pendant_lamp\", \"length\": 50, \"width\": 46, \"left\": 121, \"top\": 143, \"color\": \"orange\"},\n",
    "]\n",
    "\n",
    "# Create a figure and axis\n",
    "fig, ax = plt.subplots(figsize=(10, 10))\n",
    "\n",
    "# Draw room boundary\n",
    "ax.set_xlim(0, room_length)\n",
    "ax.set_ylim(0, room_width)\n",
    "ax.set_aspect('equal')\n",
    "ax.set_title(\"Bedroom Layout\")\n",
    "ax.set_xlabel(\"X (px)\")\n",
    "ax.set_ylabel(\"Y (px)\")\n",
    "\n",
    "# Draw furniture\n",
    "for item in furniture:\n",
    "    rect = patches.Rectangle(\n",
    "        (item[\"left\"], item[\"top\"]), item[\"length\"], item[\"width\"],\n",
    "        linewidth=2, edgecolor='black', facecolor=item[\"color\"]\n",
    "    )\n",
    "    ax.add_patch(rect)\n",
    "    plt.text(\n",
    "        item[\"left\"] + item[\"length\"] / 2,\n",
    "        item[\"top\"] + item[\"width\"] / 2,\n",
    "        item[\"name\"], ha=\"center\", va=\"center\", fontsize=8, color=\"white\"\n",
    "    )\n",
    "\n",
    "# Add grid and show plot\n",
    "plt.grid(True)\n",
    "plt.show()\n"
   ]
  },
  {
   "cell_type": "code",
   "execution_count": null,
   "metadata": {},
   "outputs": [
    {
     "name": "stdout",
     "output_type": "stream",
     "text": [
      "\n",
      "user\n",
      "<|text|>You are a 3D indoor scene designer. \n",
      "Instruction: synthesize the 3D layout of an indoor scene. The generated 3D layout should follow the CSS style, where each line starts with the furniture category and is followed by the 3D size, orientation and absolute position. Formally, each line should follow the template: \n",
      "FURNITURE {length:?px: width:?px; height:?px; orientation:? degrees; left:?px; top:?px; depth:?px;}\n",
      "All values are in pixel but the orientation angle is in degrees.\n",
      "\n",
      "Available furnitures: armchair, bookshelf, cabinet, ceiling_lamp, chair, children_cabinet, coffee_table, desk, double_bed, dressing_chair, dressing_table, floor_lamp, kids_bed, nightstand, pendant_lamp, shelf, single_bed, sofa, stool, table, tv_stand, wardrobe\n",
      "Overall furniture frequencies: (armchair: 0.0049; bookshelf: 0.0077; cabinet: 0.0222; ceiling_lamp: 0.0616; chair: 0.0247; children_cabinet: 0.0072; coffee_table: 0.0011; desk: 0.0171; double_bed: 0.1675; dressing_chair: 0.006; dressing_table: 0.021; floor_lamp: 0.0093; kids_bed: 0.0077; nightstand: 0.2655; pendant_lamp: 0.1251; shelf: 0.0086; single_bed: 0.0215; sofa: 0.0019; stool: 0.0117; table: 0.0209; tv_stand: 0.0315; wardrobe: 0.1555).\n",
      "Here is the 3D layout of the scene: \n",
      "armchair {length: 300px; width: 300px; height: 400px; orientation: 0 degrees; left: 100px; top: 100px; depth: 0px;}\n",
      "bookshelf {length: 200px; width: 50px; height: 300px; orientation: 0 degrees; left: 300px; top: 100px; depth: 0px;}\n",
      "cabinet {length: 200px; width: 50px; height: 300px; orientation: 0 degrees; left: 500px; top: 100px; depth: 0px;}\n",
      "ceiling_lamp {length: 50px; width: 50px; height: 100px; orientation: 0 degrees; left: 700px; top: 0px; depth: 0px;}\n",
      "chair {length: 200px; width: 200px; height: 400px; orientation: 0 degrees; left: 100px; top: 500px; depth: 0px;}\n",
      "children_cabinet {length: 150px; width: 50px; height: 200px; orientation: 0 degrees; left: 300px; top: 500px; depth: 0px;}\n",
      "coffee_table {length: 400px; width: 200px; height: 100px; orientation: 0 degrees; left: 100px; top: 600px; depth: 0px;}\n",
      "desk {length: 800px; width: 400px; height: 600px; orientation: 0 degrees; left: 500px; top: 100px; depth: 0px;}\n",
      "double_bed {length: 800px; width: 400px; height: 600px; orientation: 0 degrees; left: 100px; top: 300px; depth: 0px;}\n",
      "dressing_chair {length: 150px; width: 150px; height: 400px; orientation: 0 degrees; left: 700px; top: 300px; depth: 0px;}\n",
      "dressing_table {length: 400px; width: 200px; height: 300px; orientation: 0 degrees; left: 700px; top\n"
     ]
    }
   ],
   "source": [
    "# prompt = \"\"\n",
    "inputs = processor(text=prompt, images=None, return_tensors=\"pt\").to(\"cuda\")\n",
    "output = model.generate(**inputs, max_new_tokens=750)\n",
    "generated_text = processor.decode(output[0], skip_special_tokens=True)\n",
    "print(generated_text)"
   ]
  },
  {
   "cell_type": "code",
   "execution_count": null,
   "metadata": {},
   "outputs": [],
   "source": [
    "model()"
   ]
  }
 ],
 "metadata": {
  "kernelspec": {
   "display_name": "llava",
   "language": "python",
   "name": "python3"
  },
  "language_info": {
   "codemirror_mode": {
    "name": "ipython",
    "version": 3
   },
   "file_extension": ".py",
   "mimetype": "text/x-python",
   "name": "python",
   "nbconvert_exporter": "python",
   "pygments_lexer": "ipython3",
   "version": "3.10.15"
  }
 },
 "nbformat": 4,
 "nbformat_minor": 2
}
